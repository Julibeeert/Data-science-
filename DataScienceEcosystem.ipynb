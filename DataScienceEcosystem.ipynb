{
 "cells": [
  {
   "cell_type": "markdown",
   "id": "bf69b08e-7b48-459b-b877-ad88f0195cc3",
   "metadata": {},
   "source": [
    "# Data Science Tools and Ecosystem"
   ]
  },
  {
   "cell_type": "markdown",
   "id": "b94862a6-d612-4638-a8aa-72465d1d62e1",
   "metadata": {},
   "source": [
    "En este cuaderno, se resumen las herramientas y ecosistemas de ciencia de datos."
   ]
  },
  {
   "cell_type": "markdown",
   "id": "2cdb4edc-5221-4837-bf65-7ec8723cfae4",
   "metadata": {},
   "source": [
    "##### **Objetivos:** \n",
    "\n",
    "* Identificar los lenguajes de programación más utilizados en Ciencia de Datos.\n",
    "\n",
    "* Describir las bibliotecas más comunes en Ciencia de Datos y su propósito.\n",
    "\n",
    "* Realizar y entender operaciones aritméticas básicas en programación.\n",
    "\n",
    "* Convertir entre diferentes unidades de tiempo, como de minutos a horas."
   ]
  },
  {
   "cell_type": "markdown",
   "id": "fa748732-abf4-4771-ab41-60cda45210e5",
   "metadata": {},
   "source": [
    "Algunos de los lenguajes populares que utilizan los científicos de datos son:\n",
    "\n",
    "1. Python\n",
    "2. R\n",
    "3. SQL"
   ]
  },
  {
   "cell_type": "markdown",
   "id": "dbfecf3e-5c9f-4131-a6db-a14d6f64aa8f",
   "metadata": {},
   "source": [
    "Algunas de las bibliotecas comúnmente utilizadas por los científicos de datos incluyen:\n",
    "\n",
    "1. Pandas\n",
    "2. NumPy\n",
    "3. Matplotlib"
   ]
  },
  {
   "cell_type": "markdown",
   "id": "b5a722d3-397e-474d-921e-d4e1de6f78b0",
   "metadata": {},
   "source": [
    "| Herramientas de la Ciencia de Datos|\n",
    "|------------------------------------|\n",
    "| Jupyter notebook |\n",
    "| Apache Zeppelin | \n",
    "| RStudio |\n"
   ]
  },
  {
   "cell_type": "markdown",
   "id": "3a4ae439-19cd-4b99-aaac-03e4a9d2e6e4",
   "metadata": {},
   "source": [
    "### A continuación, se presentan algunos ejemplos de evaluación de expresiones aritméticas en Python"
   ]
  },
  {
   "cell_type": "code",
   "execution_count": 3,
   "id": "9e6d3dfd-bc92-456e-930f-0e155ad19db7",
   "metadata": {},
   "outputs": [
    {
     "name": "stdout",
     "output_type": "stream",
     "text": [
      "17\n"
     ]
    }
   ],
   "source": [
    "# Esta es una expresión aritmética simple para multiplicar y luego sumar enteros\n",
    "resultado=(3*4)+5\n",
    "print(resultado)"
   ]
  },
  {
   "cell_type": "code",
   "execution_count": 4,
   "id": "09245faa-6466-46ce-9125-2740a31881bf",
   "metadata": {},
   "outputs": [
    {
     "name": "stdout",
     "output_type": "stream",
     "text": [
      "3.3333333333333335\n"
     ]
    }
   ],
   "source": [
    "# Esto convertirá 200 minutos a horas dividiendo por 60\n",
    "resultado=(200/60)\n",
    "print(resultado)"
   ]
  },
  {
   "cell_type": "code",
   "execution_count": 6,
   "id": "4d2799ea-97b2-4d0d-8499-6fa42b5148d9",
   "metadata": {},
   "outputs": [
    {
     "name": "stdout",
     "output_type": "stream",
     "text": [
      "Julian Ulloa\n"
     ]
    }
   ],
   "source": [
    "## Autor\n",
    "\n",
    "print (\"Julian Ulloa\")"
   ]
  },
  {
   "cell_type": "code",
   "execution_count": null,
   "id": "4398b9b6-b28f-4289-bf83-b6c75164775f",
   "metadata": {},
   "outputs": [],
   "source": []
  }
 ],
 "metadata": {
  "kernelspec": {
   "display_name": "Python 3 (ipykernel)",
   "language": "python",
   "name": "python3"
  },
  "language_info": {
   "codemirror_mode": {
    "name": "ipython",
    "version": 3
   },
   "file_extension": ".py",
   "mimetype": "text/x-python",
   "name": "python",
   "nbconvert_exporter": "python",
   "pygments_lexer": "ipython3",
   "version": "3.12.8"
  }
 },
 "nbformat": 4,
 "nbformat_minor": 5
}
